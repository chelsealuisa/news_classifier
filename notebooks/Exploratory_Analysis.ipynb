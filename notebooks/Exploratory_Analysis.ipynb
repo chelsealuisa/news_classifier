{
 "cells": [
  {
   "cell_type": "markdown",
   "metadata": {},
   "source": [
    "## Imports"
   ]
  },
  {
   "cell_type": "code",
   "execution_count": 2,
   "metadata": {},
   "outputs": [],
   "source": [
    "import pandas as pd\n",
    "import numpy as np\n",
    "import matplotlib.pyplot as plt\n",
    "from sklearn.pipeline import Pipeline\n",
    "from sklearn.feature_extraction.text import TfidfVectorizer\n",
    "from sklearn.linear_model import SGDClassifier\n",
    "from sklearn.model_selection import GridSearchCV\n",
    "from sklearn.metrics import confusion_matrix\n",
    "from sklearn.model_selection import train_test_split\n",
    "from sklearn.metrics import accuracy_score, confusion_matrix, classification_report, plot_confusion_matrix"
   ]
  },
  {
   "cell_type": "markdown",
   "metadata": {},
   "source": [
    "## Setup"
   ]
  },
  {
   "cell_type": "code",
   "execution_count": 3,
   "metadata": {},
   "outputs": [],
   "source": [
    "seed = 100"
   ]
  },
  {
   "cell_type": "code",
   "execution_count": 4,
   "metadata": {},
   "outputs": [],
   "source": [
    "headers = ['ID', 'TITLE', 'URL', 'PUBLISHER', 'CATEGORY', 'STORY', 'HOSTNAME', 'TIMESTAMP']\n",
    "df_full = pd.read_csv('../data/raw/newsCorpora.csv', sep='\\t', header=None, names=headers)"
   ]
  },
  {
   "cell_type": "code",
   "execution_count": 5,
   "metadata": {},
   "outputs": [
    {
     "data": {
      "text/plain": [
       "(422419, 8)"
      ]
     },
     "execution_count": 5,
     "metadata": {},
     "output_type": "execute_result"
    }
   ],
   "source": [
    "df_full.shape"
   ]
  },
  {
   "cell_type": "code",
   "execution_count": 6,
   "metadata": {},
   "outputs": [],
   "source": [
    "df = df_full.sample(10000)"
   ]
  },
  {
   "cell_type": "code",
   "execution_count": 7,
   "metadata": {},
   "outputs": [
    {
     "data": {
      "text/html": [
       "<div>\n",
       "<style scoped>\n",
       "    .dataframe tbody tr th:only-of-type {\n",
       "        vertical-align: middle;\n",
       "    }\n",
       "\n",
       "    .dataframe tbody tr th {\n",
       "        vertical-align: top;\n",
       "    }\n",
       "\n",
       "    .dataframe thead th {\n",
       "        text-align: right;\n",
       "    }\n",
       "</style>\n",
       "<table border=\"1\" class=\"dataframe\">\n",
       "  <thead>\n",
       "    <tr style=\"text-align: right;\">\n",
       "      <th></th>\n",
       "      <th>ID</th>\n",
       "      <th>TITLE</th>\n",
       "      <th>URL</th>\n",
       "      <th>PUBLISHER</th>\n",
       "      <th>CATEGORY</th>\n",
       "      <th>STORY</th>\n",
       "      <th>HOSTNAME</th>\n",
       "      <th>TIMESTAMP</th>\n",
       "    </tr>\n",
       "  </thead>\n",
       "  <tbody>\n",
       "    <tr>\n",
       "      <th>266034</th>\n",
       "      <td>266480</td>\n",
       "      <td>Study Says: Cynicism Affects Health And Poses ...</td>\n",
       "      <td>http://yottafire.com/2014/05/study-says-cynici...</td>\n",
       "      <td>YottaFire</td>\n",
       "      <td>m</td>\n",
       "      <td>dWzfVzADvlPoabMm0XRnHEg1fzuhM</td>\n",
       "      <td>yottafire.com</td>\n",
       "      <td>1401372175492</td>\n",
       "    </tr>\n",
       "    <tr>\n",
       "      <th>214976</th>\n",
       "      <td>215422</td>\n",
       "      <td>The First Picture From the Set of 'Star Wars: ...</td>\n",
       "      <td>http://mashable.com/2014/05/16/star-wars-episo...</td>\n",
       "      <td>Mashable</td>\n",
       "      <td>e</td>\n",
       "      <td>dXQx0Hai6zlpPcMHtYTA3Q1w826rM</td>\n",
       "      <td>mashable.com</td>\n",
       "      <td>1400396269646</td>\n",
       "    </tr>\n",
       "    <tr>\n",
       "      <th>284199</th>\n",
       "      <td>284659</td>\n",
       "      <td>Channing Tatum &amp; Jonah Hill, Snoop Dogg, and E...</td>\n",
       "      <td>http://www.thehothits.com/news/46721/channing-...</td>\n",
       "      <td>The Hot Hits</td>\n",
       "      <td>e</td>\n",
       "      <td>d4RgurdSE0ejKWMjfcqlTKHObqs3M</td>\n",
       "      <td>www.thehothits.com</td>\n",
       "      <td>1402753402023</td>\n",
       "    </tr>\n",
       "  </tbody>\n",
       "</table>\n",
       "</div>"
      ],
      "text/plain": [
       "            ID                                              TITLE  \\\n",
       "266034  266480  Study Says: Cynicism Affects Health And Poses ...   \n",
       "214976  215422  The First Picture From the Set of 'Star Wars: ...   \n",
       "284199  284659  Channing Tatum & Jonah Hill, Snoop Dogg, and E...   \n",
       "\n",
       "                                                      URL     PUBLISHER  \\\n",
       "266034  http://yottafire.com/2014/05/study-says-cynici...     YottaFire   \n",
       "214976  http://mashable.com/2014/05/16/star-wars-episo...      Mashable   \n",
       "284199  http://www.thehothits.com/news/46721/channing-...  The Hot Hits   \n",
       "\n",
       "       CATEGORY                          STORY            HOSTNAME  \\\n",
       "266034        m  dWzfVzADvlPoabMm0XRnHEg1fzuhM       yottafire.com   \n",
       "214976        e  dXQx0Hai6zlpPcMHtYTA3Q1w826rM        mashable.com   \n",
       "284199        e  d4RgurdSE0ejKWMjfcqlTKHObqs3M  www.thehothits.com   \n",
       "\n",
       "            TIMESTAMP  \n",
       "266034  1401372175492  \n",
       "214976  1400396269646  \n",
       "284199  1402753402023  "
      ]
     },
     "execution_count": 7,
     "metadata": {},
     "output_type": "execute_result"
    }
   ],
   "source": [
    "df.sample(3)"
   ]
  },
  {
   "cell_type": "markdown",
   "metadata": {},
   "source": [
    "## EDA"
   ]
  },
  {
   "cell_type": "code",
   "execution_count": 8,
   "metadata": {},
   "outputs": [
    {
     "data": {
      "text/plain": [
       "<matplotlib.axes._subplots.AxesSubplot at 0x10348e0d0>"
      ]
     },
     "execution_count": 8,
     "metadata": {},
     "output_type": "execute_result"
    },
    {
     "data": {
      "image/png": "[encoded data removed]",
      "text/plain": [
       "<Figure size 432x288 with 1 Axes>"
      ]
     },
     "metadata": {
      "needs_background": "light"
     },
     "output_type": "display_data"
    }
   ],
   "source": [
    "df['CATEGORY'].value_counts().plot(kind='bar')"
   ]
  },
  {
   "cell_type": "markdown",
   "metadata": {},
   "source": [
    "Categories are reasonably well-balanced, so balancing techniques are skipped."
   ]
  },
  {
   "cell_type": "markdown",
   "metadata": {},
   "source": [
    "## Model"
   ]
  },
  {
   "cell_type": "code",
   "execution_count": 9,
   "metadata": {},
   "outputs": [],
   "source": [
    "pipe = Pipeline(steps=[\n",
    "    ('tfidf', TfidfVectorizer()),\n",
    "    ('clf', SGDClassifier(random_state=100))\n",
    "])\n",
    "\n",
    "param_grid = {\n",
    "    'tfidf__ngram_range': [(1,1), (1,2)],\n",
    "    'clf__loss': ['log', 'hinge', 'modified_huber'],\n",
    "    'clf__penalty': ['l1','l2','elasticnet'], \n",
    "    'clf__alpha': [1e-3, 1e-2, 1e-1, 1e0],\n",
    "    'clf__shuffle': [True],\n",
    "    'clf__max_iter': [500, 1000, 2000],\n",
    "}"
   ]
  },
  {
   "cell_type": "code",
   "execution_count": 10,
   "metadata": {},
   "outputs": [],
   "source": [
    "X = df[\"TITLE\"]\n",
    "y = df[\"CATEGORY\"]\n",
    "X_train, X_test, y_train, y_test = train_test_split(X, y, test_size=0.25, random_state=seed)"
   ]
  },
  {
   "cell_type": "code",
   "execution_count": 11,
   "metadata": {},
   "outputs": [
    {
     "data": {
      "text/plain": [
       "GridSearchCV(cv=5,\n",
       "             estimator=Pipeline(steps=[('tfidf', TfidfVectorizer()),\n",
       "                                       ('clf',\n",
       "                                        SGDClassifier(random_state=100))]),\n",
       "             n_jobs=-1,\n",
       "             param_grid={'clf__alpha': [0.001, 0.01, 0.1, 1.0],\n",
       "                         'clf__loss': ['log', 'hinge', 'modified_huber'],\n",
       "                         'clf__max_iter': [500, 1000, 2000],\n",
       "                         'clf__penalty': ['l1', 'l2', 'elasticnet'],\n",
       "                         'clf__shuffle': [True],\n",
       "                         'tfidf__ngram_range': [(1, 1), (1, 2)]},\n",
       "             scoring='accuracy')"
      ]
     },
     "execution_count": 11,
     "metadata": {},
     "output_type": "execute_result"
    }
   ],
   "source": [
    "search = GridSearchCV(pipe, param_grid, n_jobs=-1, cv=5, scoring='accuracy')\n",
    "search.fit(X_train, y_train)"
   ]
  },
  {
   "cell_type": "code",
   "execution_count": 12,
   "metadata": {},
   "outputs": [
    {
     "name": "stdout",
     "output_type": "stream",
     "text": [
      "Best score: 0.8539999999999999\n",
      "Best params: {'clf__alpha': 0.001, 'clf__loss': 'modified_huber', 'clf__max_iter': 500, 'clf__penalty': 'l2', 'clf__shuffle': True, 'tfidf__ngram_range': (1, 1)}\n"
     ]
    }
   ],
   "source": [
    "print(f\"Best score: {search.best_score_}\")\n",
    "print(f\"Best params: {search.best_params_}\")"
   ]
  },
  {
   "cell_type": "code",
   "execution_count": 13,
   "metadata": {},
   "outputs": [
    {
     "name": "stdout",
     "output_type": "stream",
     "text": [
      "Accuracy on test set: 0.8536\n"
     ]
    }
   ],
   "source": [
    "y_pred = search.predict(X_test)\n",
    "print(f\"Accuracy on test set: {accuracy_score(y_test, y_pred)}\")"
   ]
  },
  {
   "cell_type": "code",
   "execution_count": 14,
   "metadata": {},
   "outputs": [
    {
     "name": "stdout",
     "output_type": "stream",
     "text": [
      "              precision    recall  f1-score   support\n",
      "\n",
      "           b       0.84      0.85      0.84       707\n",
      "           e       0.85      0.95      0.90       898\n",
      "           m       0.93      0.70      0.80       249\n",
      "           t       0.86      0.78      0.82       646\n",
      "\n",
      "    accuracy                           0.85      2500\n",
      "   macro avg       0.87      0.82      0.84      2500\n",
      "weighted avg       0.86      0.85      0.85      2500\n",
      "\n"
     ]
    }
   ],
   "source": [
    "print(classification_report(y_test, y_pred))"
   ]
  },
  {
   "cell_type": "code",
   "execution_count": 15,
   "metadata": {},
   "outputs": [
    {
     "data": {
      "image/png": "[encoded data removed]",
      "text/plain": [
       "<Figure size 432x288 with 2 Axes>"
      ]
     },
     "metadata": {
      "needs_background": "light"
     },
     "output_type": "display_data"
    }
   ],
   "source": [
    "plot_confusion_matrix(search, X_test, y_test,\n",
    "                                 display_labels=y.unique(),\n",
    "                                 cmap=plt.cm.Blues,\n",
    "                                 normalize='true');"
   ]
  },
  {
   "cell_type": "code",
   "execution_count": 18,
   "metadata": {},
   "outputs": [
    {
     "data": {
      "text/plain": [
       "array([[0.30319525, 0.3583056 , 0.12942516, 0.20907399],\n",
       "       [0.30319525, 0.3583056 , 0.12942516, 0.20907399]])"
      ]
     },
     "execution_count": 18,
     "metadata": {},
     "output_type": "execute_result"
    }
   ],
   "source": [
    "search.predict_proba([\"test1\", \"test2\"])"
   ]
  }
 ],
 "metadata": {
  "kernelspec": {
   "display_name": "news",
   "language": "python",
   "name": "news"
  },
  "language_info": {
   "codemirror_mode": {
    "name": "ipython",
    "version": 3
   },
   "file_extension": ".py",
   "mimetype": "text/x-python",
   "name": "python",
   "nbconvert_exporter": "python",
   "pygments_lexer": "ipython3",
   "version": "3.8.3"
  },
  "toc": {
   "base_numbering": 1,
   "nav_menu": {},
   "number_sections": true,
   "sideBar": true,
   "skip_h1_title": false,
   "title_cell": "Table of Contents",
   "title_sidebar": "Contents",
   "toc_cell": false,
   "toc_position": {},
   "toc_section_display": true,
   "toc_window_display": false
  }
 },
 "nbformat": 4,
 "nbformat_minor": 4
}
