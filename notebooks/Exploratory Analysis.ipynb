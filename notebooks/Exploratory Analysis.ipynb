{
 "cells": [
  {
   "cell_type": "markdown",
   "metadata": {},
   "source": [
    "## Imports"
   ]
  },
  {
   "cell_type": "code",
   "execution_count": 21,
   "metadata": {},
   "outputs": [],
   "source": [
    "import pandas as pd\n",
    "import numpy as np\n",
    "import matplotlib.pyplot as plt\n",
    "from sklearn.pipeline import Pipeline\n",
    "from sklearn.feature_extraction.text import TfidfVectorizer\n",
    "from sklearn.linear_model import SGDClassifier\n",
    "from sklearn.model_selection import GridSearchCV\n",
    "from sklearn.metrics import confusion_matrix\n",
    "from sklearn.model_selection import train_test_split\n",
    "from sklearn.metrics import accuracy_score, confusion_matrix, classification_report, plot_confusion_matrix"
   ]
  },
  {
   "cell_type": "markdown",
   "metadata": {},
   "source": [
    "## Setup"
   ]
  },
  {
   "cell_type": "code",
   "execution_count": 3,
   "metadata": {},
   "outputs": [],
   "source": [
    "seed = 100"
   ]
  },
  {
   "cell_type": "code",
   "execution_count": 4,
   "metadata": {},
   "outputs": [],
   "source": [
    "headers = ['ID', 'TITLE', 'URL', 'PUBLISHER', 'CATEGORY', 'STORY', 'HOSTNAME', 'TIMESTAMP']\n",
    "df_full = pd.read_csv('../data/raw/newsCorpora.csv', sep='\\t', header=None, names=headers)"
   ]
  },
  {
   "cell_type": "code",
   "execution_count": 5,
   "metadata": {},
   "outputs": [
    {
     "data": {
      "text/plain": [
       "(422419, 8)"
      ]
     },
     "execution_count": 5,
     "metadata": {},
     "output_type": "execute_result"
    }
   ],
   "source": [
    "df_full.shape"
   ]
  },
  {
   "cell_type": "code",
   "execution_count": 6,
   "metadata": {},
   "outputs": [],
   "source": [
    "df = df_full.sample(10000)"
   ]
  },
  {
   "cell_type": "code",
   "execution_count": 7,
   "metadata": {},
   "outputs": [
    {
     "data": {
      "text/html": [
       "<div>\n",
       "<style scoped>\n",
       "    .dataframe tbody tr th:only-of-type {\n",
       "        vertical-align: middle;\n",
       "    }\n",
       "\n",
       "    .dataframe tbody tr th {\n",
       "        vertical-align: top;\n",
       "    }\n",
       "\n",
       "    .dataframe thead th {\n",
       "        text-align: right;\n",
       "    }\n",
       "</style>\n",
       "<table border=\"1\" class=\"dataframe\">\n",
       "  <thead>\n",
       "    <tr style=\"text-align: right;\">\n",
       "      <th></th>\n",
       "      <th>ID</th>\n",
       "      <th>TITLE</th>\n",
       "      <th>URL</th>\n",
       "      <th>PUBLISHER</th>\n",
       "      <th>CATEGORY</th>\n",
       "      <th>STORY</th>\n",
       "      <th>HOSTNAME</th>\n",
       "      <th>TIMESTAMP</th>\n",
       "    </tr>\n",
       "  </thead>\n",
       "  <tbody>\n",
       "    <tr>\n",
       "      <td>36304</td>\n",
       "      <td>36305</td>\n",
       "      <td>Teen sci-fi franchise 'Divergent' debuts with ...</td>\n",
       "      <td>http://www.wboc.com/story/25049514/teen-sci-fi...</td>\n",
       "      <td>WBOC TV 16</td>\n",
       "      <td>e</td>\n",
       "      <td>d_oUk702ysXcmLMXRJe0R-XgNycCM</td>\n",
       "      <td>www.wboc.com</td>\n",
       "      <td>1395624055416</td>\n",
       "    </tr>\n",
       "    <tr>\n",
       "      <td>399388</td>\n",
       "      <td>399907</td>\n",
       "      <td>More proof that climate change is ruining seaf...</td>\n",
       "      <td>http://www.salon.com/2014/07/30/more_proof_tha...</td>\n",
       "      <td>Salon</td>\n",
       "      <td>t</td>\n",
       "      <td>d7DNvbWMjAsHiPMdJnHjqhaDvMVPM</td>\n",
       "      <td>www.salon.com</td>\n",
       "      <td>1406726942131</td>\n",
       "    </tr>\n",
       "    <tr>\n",
       "      <td>21292</td>\n",
       "      <td>21293</td>\n",
       "      <td>Stocks: Investors hope for more gains</td>\n",
       "      <td>http://www.kspr.com/life/money/Stocks-Investor...</td>\n",
       "      <td>KSPR</td>\n",
       "      <td>b</td>\n",
       "      <td>dr_9dz3HbXAbfbMbFMCvyN2YZQsjM</td>\n",
       "      <td>www.kspr.com</td>\n",
       "      <td>1395231461107</td>\n",
       "    </tr>\n",
       "  </tbody>\n",
       "</table>\n",
       "</div>"
      ],
      "text/plain": [
       "            ID                                              TITLE  \\\n",
       "36304    36305  Teen sci-fi franchise 'Divergent' debuts with ...   \n",
       "399388  399907  More proof that climate change is ruining seaf...   \n",
       "21292    21293              Stocks: Investors hope for more gains   \n",
       "\n",
       "                                                      URL   PUBLISHER  \\\n",
       "36304   http://www.wboc.com/story/25049514/teen-sci-fi...  WBOC TV 16   \n",
       "399388  http://www.salon.com/2014/07/30/more_proof_tha...       Salon   \n",
       "21292   http://www.kspr.com/life/money/Stocks-Investor...        KSPR   \n",
       "\n",
       "       CATEGORY                          STORY       HOSTNAME      TIMESTAMP  \n",
       "36304         e  d_oUk702ysXcmLMXRJe0R-XgNycCM   www.wboc.com  1395624055416  \n",
       "399388        t  d7DNvbWMjAsHiPMdJnHjqhaDvMVPM  www.salon.com  1406726942131  \n",
       "21292         b  dr_9dz3HbXAbfbMbFMCvyN2YZQsjM   www.kspr.com  1395231461107  "
      ]
     },
     "execution_count": 7,
     "metadata": {},
     "output_type": "execute_result"
    }
   ],
   "source": [
    "df.sample(3)"
   ]
  },
  {
   "cell_type": "markdown",
   "metadata": {},
   "source": [
    "## EDA"
   ]
  },
  {
   "cell_type": "code",
   "execution_count": 8,
   "metadata": {},
   "outputs": [
    {
     "data": {
      "text/plain": [
       "<matplotlib.axes._subplots.AxesSubplot at 0x118ac4320>"
      ]
     },
     "execution_count": 8,
     "metadata": {},
     "output_type": "execute_result"
    },
    {
     "data": {
      "image/png": "[encoded data removed]",
      "text/plain": [
       "<Figure size 432x288 with 1 Axes>"
      ]
     },
     "metadata": {
      "needs_background": "light"
     },
     "output_type": "display_data"
    }
   ],
   "source": [
    "df['CATEGORY'].value_counts().plot(kind='bar')"
   ]
  },
  {
   "cell_type": "markdown",
   "metadata": {},
   "source": [
    "Categories are reasonably well-balanced, so balancing techniques are skipped."
   ]
  },
  {
   "cell_type": "markdown",
   "metadata": {},
   "source": [
    "## Model"
   ]
  },
  {
   "cell_type": "code",
   "execution_count": 9,
   "metadata": {},
   "outputs": [],
   "source": [
    "pipe = Pipeline(steps=[\n",
    "    ('tfidf', TfidfVectorizer()),\n",
    "    ('clf', SGDClassifier(random_state=100))\n",
    "])\n",
    "\n",
    "param_grid = {\n",
    "    'tfidf__ngram_range': [(1,1), (1,2)],\n",
    "    'clf__loss': ['log', 'hinge', 'modified_huber'],\n",
    "    'clf__penalty': ['l1','l2','elasticnet'], \n",
    "    'clf__alpha': [1e-3, 1e-2, 1e-1, 1e0],\n",
    "    'clf__shuffle': [True],\n",
    "    'clf__max_iter': [500, 1000, 2000],\n",
    "}"
   ]
  },
  {
   "cell_type": "code",
   "execution_count": 10,
   "metadata": {},
   "outputs": [],
   "source": [
    "X = df[\"TITLE\"]\n",
    "y = df[\"CATEGORY\"]\n",
    "X_train, X_test, y_train, y_test = train_test_split(X, y, test_size=0.25, random_state=seed)"
   ]
  },
  {
   "cell_type": "code",
   "execution_count": 11,
   "metadata": {},
   "outputs": [
    {
     "data": {
      "text/plain": [
       "GridSearchCV(cv=5,\n",
       "             estimator=Pipeline(steps=[('tfidf', TfidfVectorizer()),\n",
       "                                       ('clf',\n",
       "                                        SGDClassifier(random_state=100))]),\n",
       "             n_jobs=-1,\n",
       "             param_grid={'clf__alpha': [0.001, 0.01, 0.1, 1.0],\n",
       "                         'clf__loss': ['log', 'hinge', 'modified_huber'],\n",
       "                         'clf__max_iter': [500, 1000, 2000],\n",
       "                         'clf__penalty': ['l1', 'l2', 'elasticnet'],\n",
       "                         'clf__shuffle': [True],\n",
       "                         'tfidf__ngram_range': [(1, 1), (1, 2)]},\n",
       "             scoring='accuracy')"
      ]
     },
     "execution_count": 11,
     "metadata": {},
     "output_type": "execute_result"
    }
   ],
   "source": [
    "search = GridSearchCV(pipe, param_grid, n_jobs=-1, cv=5, scoring='accuracy')\n",
    "search.fit(X_train, y_train)"
   ]
  },
  {
   "cell_type": "code",
   "execution_count": 15,
   "metadata": {},
   "outputs": [
    {
     "name": "stdout",
     "output_type": "stream",
     "text": [
      "Best score: 0.8570666666666668\n",
      "Best params: {'clf__alpha': 0.001, 'clf__loss': 'modified_huber', 'clf__max_iter': 500, 'clf__penalty': 'l2', 'clf__shuffle': True, 'tfidf__ngram_range': (1, 1)}\n"
     ]
    }
   ],
   "source": [
    "print(f\"Best score: {search.best_score_}\")\n",
    "print(f\"Best params: {search.best_params_}\")"
   ]
  },
  {
   "cell_type": "code",
   "execution_count": 16,
   "metadata": {},
   "outputs": [
    {
     "name": "stdout",
     "output_type": "stream",
     "text": [
      "Accuracy on test set: 0.8572\n"
     ]
    }
   ],
   "source": [
    "y_pred = search.predict(X_test)\n",
    "print(f\"Accuracy on test set: {accuracy_score(y_test, y_pred)}\")"
   ]
  },
  {
   "cell_type": "code",
   "execution_count": 17,
   "metadata": {},
   "outputs": [
    {
     "name": "stdout",
     "output_type": "stream",
     "text": [
      "              precision    recall  f1-score   support\n",
      "\n",
      "           b       0.84      0.86      0.85       676\n",
      "           e       0.84      0.97      0.90       927\n",
      "           m       0.92      0.64      0.75       272\n",
      "           t       0.88      0.79      0.83       625\n",
      "\n",
      "    accuracy                           0.86      2500\n",
      "   macro avg       0.87      0.81      0.83      2500\n",
      "weighted avg       0.86      0.86      0.85      2500\n",
      "\n"
     ]
    }
   ],
   "source": [
    "print(classification_report(y_test, y_pred))"
   ]
  },
  {
   "cell_type": "code",
   "execution_count": 25,
   "metadata": {},
   "outputs": [
    {
     "data": {
      "image/png": "[encoded data removed]",
      "text/plain": [
       "<Figure size 432x288 with 2 Axes>"
      ]
     },
     "metadata": {
      "needs_background": "light"
     },
     "output_type": "display_data"
    }
   ],
   "source": [
    "plot_confusion_matrix(search, X_test, y_test,\n",
    "                                 display_labels=y.unique(),\n",
    "                                 cmap=plt.cm.Blues,\n",
    "                                 normalize='true');"
   ]
  }
 ],
 "metadata": {
  "kernelspec": {
   "display_name": "Python (py36)",
   "language": "python",
   "name": "py36"
  },
  "language_info": {
   "codemirror_mode": {
    "name": "ipython",
    "version": 3
   },
   "file_extension": ".py",
   "mimetype": "text/x-python",
   "name": "python",
   "nbconvert_exporter": "python",
   "pygments_lexer": "ipython3",
   "version": "3.6.7"
  },
  "toc": {
   "base_numbering": 1,
   "nav_menu": {},
   "number_sections": true,
   "sideBar": true,
   "skip_h1_title": false,
   "title_cell": "Table of Contents",
   "title_sidebar": "Contents",
   "toc_cell": false,
   "toc_position": {},
   "toc_section_display": true,
   "toc_window_display": false
  }
 },
 "nbformat": 4,
 "nbformat_minor": 4
}
